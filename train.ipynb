{
 "cells": [
  {
   "cell_type": "markdown",
   "metadata": {},
   "source": [
    "# Segmentation Example\n",
    "> Train a U-Net for pixelwise segmentation of the prostate"
   ]
  },
  {
   "cell_type": "code",
   "execution_count": 1,
   "metadata": {},
   "outputs": [],
   "source": [
    "import monai\n",
    "import ignite\n",
    "import yaml\n",
    "\n",
    "from prostate158.utils import load_config\n",
    "from prostate158.data import segmentation_dataloaders\n",
    "from prostate158.train import SegmentationTrainer\n",
    "from prostate158.report import ReportGenerator\n",
    "from prostate158.viewer import ListViewer"
   ]
  },
  {
   "cell_type": "markdown",
   "metadata": {},
   "source": [
    "All parameters needed for training and evaluation are set in `anatomy.yaml` file. "
   ]
  },
  {
   "cell_type": "code",
   "execution_count": 2,
   "metadata": {},
   "outputs": [],
   "source": [
    "config = load_config('anatomy.yaml') # change to 'tumor.yaml' for tumor segmentation\n",
    "monai.utils.set_determinism(seed=config.seed)"
   ]
  },
  {
   "cell_type": "markdown",
   "metadata": {},
   "source": [
    "Create supervised trainer for segmentation task"
   ]
  },
  {
   "cell_type": "code",
   "execution_count": 3,
   "metadata": {},
   "outputs": [],
   "source": [
    "trainer=SegmentationTrainer(\n",
    "    progress_bar=True, \n",
    "    early_stopping = True, \n",
    "    metrics = [\"MeanDice\", \"HausdorffDistance\", \"SurfaceDistance\"],\n",
    "    save_latest_metrics = True,\n",
    "    config=config\n",
    ")"
   ]
  },
  {
   "cell_type": "code",
   "execution_count": 4,
   "id": "2ad9f304",
   "metadata": {},
   "outputs": [
    {
     "name": "stdout",
     "output_type": "stream",
     "text": [
      "2022-12-06 21:36:33,475 - Engine run resuming from iteration 0, epoch 0 until 1 epochs\n",
      "2022-12-06 21:36:54,706 - Current run is terminating due to exception: y_pred and y should have same shapes, got (1, 2, 384, 384, 163) and (1, 2, 139, 122, 148).\n",
      "2022-12-06 21:36:54,713 - Exception: y_pred and y should have same shapes, got (1, 2, 384, 384, 163) and (1, 2, 139, 122, 148).\n",
      "Traceback (most recent call last):\n",
      "  File \"/home/cosminciausu/miniconda3/envs/prostate158/lib/python3.8/site-packages/ignite/engine/engine.py\", line 1069, in _run_once_on_dataset_as_gen\n",
      "    self._fire_event(Events.ITERATION_COMPLETED)\n",
      "  File \"/home/cosminciausu/miniconda3/envs/prostate158/lib/python3.8/site-packages/ignite/engine/engine.py\", line 425, in _fire_event\n",
      "    func(*first, *(event_args + others), **kwargs)\n",
      "  File \"/home/cosminciausu/miniconda3/envs/prostate158/lib/python3.8/site-packages/torch/autograd/grad_mode.py\", line 27, in decorate_context\n",
      "    return func(*args, **kwargs)\n",
      "  File \"/home/cosminciausu/miniconda3/envs/prostate158/lib/python3.8/site-packages/ignite/metrics/metric.py\", line 309, in iteration_completed\n",
      "    self.update((tensor_o1, tensor_o2))\n",
      "  File \"/home/cosminciausu/miniconda3/envs/prostate158/lib/python3.8/site-packages/ignite/metrics/metric.py\", line 596, in wrapper\n",
      "    func(self, *args, **kwargs)\n",
      "  File \"/home/cosminciausu/miniconda3/envs/prostate158/lib/python3.8/site-packages/monai/handlers/ignite_metric.py\", line 82, in update\n",
      "    self.metric_fn(y_pred, y)\n",
      "  File \"/home/cosminciausu/miniconda3/envs/prostate158/lib/python3.8/site-packages/monai/metrics/metric.py\", line 329, in __call__\n",
      "    ret = super().__call__(y_pred=y_pred, y=y)\n",
      "  File \"/home/cosminciausu/miniconda3/envs/prostate158/lib/python3.8/site-packages/monai/metrics/metric.py\", line 72, in __call__\n",
      "    return self._compute_tensor(y_pred.detach(), y_)\n",
      "  File \"/home/cosminciausu/miniconda3/envs/prostate158/lib/python3.8/site-packages/monai/metrics/meandice.py\", line 83, in _compute_tensor\n",
      "    return compute_dice(\n",
      "  File \"/home/cosminciausu/miniconda3/envs/prostate158/lib/python3.8/site-packages/monai/metrics/meandice.py\", line 138, in compute_dice\n",
      "    raise ValueError(f\"y_pred and y should have same shapes, got {y_pred.shape} and {y.shape}.\")\n",
      "ValueError: y_pred and y should have same shapes, got (1, 2, 384, 384, 163) and (1, 2, 139, 122, 148).\n",
      "2022-12-06 21:36:54,753 - Engine run is terminating due to exception: y_pred and y should have same shapes, got (1, 2, 384, 384, 163) and (1, 2, 139, 122, 148).\n",
      "2022-12-06 21:36:54,754 - Exception: y_pred and y should have same shapes, got (1, 2, 384, 384, 163) and (1, 2, 139, 122, 148).\n",
      "Traceback (most recent call last):\n",
      "  File \"/home/cosminciausu/miniconda3/envs/prostate158/lib/python3.8/site-packages/ignite/engine/engine.py\", line 959, in _internal_run_as_gen\n",
      "    epoch_time_taken += yield from self._run_once_on_dataset_as_gen()\n",
      "  File \"/home/cosminciausu/miniconda3/envs/prostate158/lib/python3.8/site-packages/ignite/engine/engine.py\", line 1087, in _run_once_on_dataset_as_gen\n",
      "    self._handle_exception(e)\n",
      "  File \"/home/cosminciausu/miniconda3/envs/prostate158/lib/python3.8/site-packages/ignite/engine/engine.py\", line 636, in _handle_exception\n",
      "    self._fire_event(Events.EXCEPTION_RAISED, e)\n",
      "  File \"/home/cosminciausu/miniconda3/envs/prostate158/lib/python3.8/site-packages/ignite/engine/engine.py\", line 425, in _fire_event\n",
      "    func(*first, *(event_args + others), **kwargs)\n",
      "  File \"/home/cosminciausu/miniconda3/envs/prostate158/lib/python3.8/site-packages/monai/handlers/stats_handler.py\", line 179, in exception_raised\n",
      "    raise e\n",
      "  File \"/home/cosminciausu/miniconda3/envs/prostate158/lib/python3.8/site-packages/ignite/engine/engine.py\", line 1069, in _run_once_on_dataset_as_gen\n",
      "    self._fire_event(Events.ITERATION_COMPLETED)\n",
      "  File \"/home/cosminciausu/miniconda3/envs/prostate158/lib/python3.8/site-packages/ignite/engine/engine.py\", line 425, in _fire_event\n",
      "    func(*first, *(event_args + others), **kwargs)\n",
      "  File \"/home/cosminciausu/miniconda3/envs/prostate158/lib/python3.8/site-packages/torch/autograd/grad_mode.py\", line 27, in decorate_context\n",
      "    return func(*args, **kwargs)\n",
      "  File \"/home/cosminciausu/miniconda3/envs/prostate158/lib/python3.8/site-packages/ignite/metrics/metric.py\", line 309, in iteration_completed\n",
      "    self.update((tensor_o1, tensor_o2))\n",
      "  File \"/home/cosminciausu/miniconda3/envs/prostate158/lib/python3.8/site-packages/ignite/metrics/metric.py\", line 596, in wrapper\n",
      "    func(self, *args, **kwargs)\n",
      "  File \"/home/cosminciausu/miniconda3/envs/prostate158/lib/python3.8/site-packages/monai/handlers/ignite_metric.py\", line 82, in update\n",
      "    self.metric_fn(y_pred, y)\n",
      "  File \"/home/cosminciausu/miniconda3/envs/prostate158/lib/python3.8/site-packages/monai/metrics/metric.py\", line 329, in __call__\n",
      "    ret = super().__call__(y_pred=y_pred, y=y)\n",
      "  File \"/home/cosminciausu/miniconda3/envs/prostate158/lib/python3.8/site-packages/monai/metrics/metric.py\", line 72, in __call__\n",
      "    return self._compute_tensor(y_pred.detach(), y_)\n",
      "  File \"/home/cosminciausu/miniconda3/envs/prostate158/lib/python3.8/site-packages/monai/metrics/meandice.py\", line 83, in _compute_tensor\n",
      "    return compute_dice(\n",
      "  File \"/home/cosminciausu/miniconda3/envs/prostate158/lib/python3.8/site-packages/monai/metrics/meandice.py\", line 138, in compute_dice\n",
      "    raise ValueError(f\"y_pred and y should have same shapes, got {y_pred.shape} and {y.shape}.\")\n",
      "ValueError: y_pred and y should have same shapes, got (1, 2, 384, 384, 163) and (1, 2, 139, 122, 148).\n"
     ]
    },
    {
     "ename": "ValueError",
     "evalue": "y_pred and y should have same shapes, got (1, 2, 384, 384, 163) and (1, 2, 139, 122, 148).",
     "output_type": "error",
     "traceback": [
      "\u001b[0;31m---------------------------------------------------------------------------\u001b[0m",
      "\u001b[0;31mValueError\u001b[0m                                Traceback (most recent call last)",
      "Cell \u001b[0;32mIn[4], line 2\u001b[0m\n\u001b[1;32m      1\u001b[0m test_dl \u001b[38;5;241m=\u001b[39m segmentation_dataloaders(config\u001b[38;5;241m=\u001b[39mconfig, train\u001b[38;5;241m=\u001b[39m\u001b[38;5;28;01mFalse\u001b[39;00m, valid\u001b[38;5;241m=\u001b[39m\u001b[38;5;28;01mFalse\u001b[39;00m, test\u001b[38;5;241m=\u001b[39m\u001b[38;5;28;01mTrue\u001b[39;00m)\n\u001b[0;32m----> 2\u001b[0m \u001b[43mtrainer\u001b[49m\u001b[38;5;241;43m.\u001b[39;49m\u001b[43mevaluate\u001b[49m\u001b[43m(\u001b[49m\n\u001b[1;32m      3\u001b[0m \u001b[43m    \u001b[49m\u001b[43mcheckpoint\u001b[49m\u001b[38;5;241;43m=\u001b[39;49m\u001b[38;5;124;43m'\u001b[39;49m\u001b[38;5;124;43mmodels/anatomy.pt\u001b[39;49m\u001b[38;5;124;43m'\u001b[39;49m\u001b[43m,\u001b[49m\n\u001b[1;32m      4\u001b[0m \u001b[43m    \u001b[49m\u001b[43mdataloader\u001b[49m\u001b[38;5;241;43m=\u001b[39;49m\u001b[43mtest_dl\u001b[49m\n\u001b[1;32m      5\u001b[0m \u001b[43m)\u001b[49m\n",
      "File \u001b[0;32m~/Documents/IDC/prostate-seg/other_models/monai-prostate158/prostate158/prostate158/train.py:483\u001b[0m, in \u001b[0;36mSegmentationTrainer.evaluate\u001b[0;34m(self, checkpoint, dataloader)\u001b[0m\n\u001b[1;32m    <a href='file:///home/cosminciausu/Documents/IDC/prostate-seg/other_models/monai-prostate158/prostate158/prostate158/train.py?line=480'>481</a>\u001b[0m     \u001b[39mself\u001b[39m\u001b[39m.\u001b[39mevaluator\u001b[39m.\u001b[39mset_data(dataloader)\n\u001b[1;32m    <a href='file:///home/cosminciausu/Documents/IDC/prostate-seg/other_models/monai-prostate158/prostate158/prostate158/train.py?line=481'>482</a>\u001b[0m     \u001b[39mself\u001b[39m\u001b[39m.\u001b[39mevaluator\u001b[39m.\u001b[39mstate\u001b[39m.\u001b[39mepoch_length\u001b[39m=\u001b[39m\u001b[39mlen\u001b[39m(dataloader)\n\u001b[0;32m--> <a href='file:///home/cosminciausu/Documents/IDC/prostate-seg/other_models/monai-prostate158/prostate158/prostate158/train.py?line=482'>483</a>\u001b[0m \u001b[39mself\u001b[39;49m\u001b[39m.\u001b[39;49mevaluator\u001b[39m.\u001b[39;49mrun()\n\u001b[1;32m    <a href='file:///home/cosminciausu/Documents/IDC/prostate-seg/other_models/monai-prostate158/prostate158/prostate158/train.py?line=483'>484</a>\u001b[0m \u001b[39mprint\u001b[39m(\u001b[39mf\u001b[39m\u001b[39m\"\u001b[39m\u001b[39mmetrics saved to \u001b[39m\u001b[39m{\u001b[39;00m\u001b[39mself\u001b[39m\u001b[39m.\u001b[39mconfig\u001b[39m.\u001b[39mout_dir\u001b[39m}\u001b[39;00m\u001b[39m\"\u001b[39m)\n",
      "File \u001b[0;32m~/miniconda3/envs/prostate158/lib/python3.8/site-packages/monai/engines/evaluator.py:148\u001b[0m, in \u001b[0;36mEvaluator.run\u001b[0;34m(self, global_epoch)\u001b[0m\n\u001b[1;32m    <a href='file:///home/cosminciausu/miniconda3/envs/prostate158/lib/python3.8/site-packages/monai/engines/evaluator.py?line=145'>146</a>\u001b[0m \u001b[39mself\u001b[39m\u001b[39m.\u001b[39mstate\u001b[39m.\u001b[39mepoch \u001b[39m=\u001b[39m global_epoch \u001b[39m-\u001b[39m \u001b[39m1\u001b[39m\n\u001b[1;32m    <a href='file:///home/cosminciausu/miniconda3/envs/prostate158/lib/python3.8/site-packages/monai/engines/evaluator.py?line=146'>147</a>\u001b[0m \u001b[39mself\u001b[39m\u001b[39m.\u001b[39mstate\u001b[39m.\u001b[39miteration \u001b[39m=\u001b[39m \u001b[39m0\u001b[39m\n\u001b[0;32m--> <a href='file:///home/cosminciausu/miniconda3/envs/prostate158/lib/python3.8/site-packages/monai/engines/evaluator.py?line=147'>148</a>\u001b[0m \u001b[39msuper\u001b[39;49m()\u001b[39m.\u001b[39;49mrun()\n",
      "File \u001b[0;32m~/miniconda3/envs/prostate158/lib/python3.8/site-packages/monai/engines/workflow.py:278\u001b[0m, in \u001b[0;36mWorkflow.run\u001b[0;34m(self)\u001b[0m\n\u001b[1;32m    <a href='file:///home/cosminciausu/miniconda3/envs/prostate158/lib/python3.8/site-packages/monai/engines/workflow.py?line=271'>272</a>\u001b[0m     warnings\u001b[39m.\u001b[39mwarn(\n\u001b[1;32m    <a href='file:///home/cosminciausu/miniconda3/envs/prostate158/lib/python3.8/site-packages/monai/engines/workflow.py?line=272'>273</a>\u001b[0m         \u001b[39m\"\u001b[39m\u001b[39m`dataloader` is empty or the specified `epoch_length` is 0, skip the `run`.\u001b[39m\u001b[39m\"\u001b[39m\n\u001b[1;32m    <a href='file:///home/cosminciausu/miniconda3/envs/prostate158/lib/python3.8/site-packages/monai/engines/workflow.py?line=273'>274</a>\u001b[0m         \u001b[39m\"\u001b[39m\u001b[39m If running distributed training, the program may hang in `all-gather`, `all-reduce`, etc.\u001b[39m\u001b[39m\"\u001b[39m\n\u001b[1;32m    <a href='file:///home/cosminciausu/miniconda3/envs/prostate158/lib/python3.8/site-packages/monai/engines/workflow.py?line=274'>275</a>\u001b[0m         \u001b[39m\"\u001b[39m\u001b[39m because not all the ranks run the same computation logic.\u001b[39m\u001b[39m\"\u001b[39m\n\u001b[1;32m    <a href='file:///home/cosminciausu/miniconda3/envs/prostate158/lib/python3.8/site-packages/monai/engines/workflow.py?line=275'>276</a>\u001b[0m     )\n\u001b[1;32m    <a href='file:///home/cosminciausu/miniconda3/envs/prostate158/lib/python3.8/site-packages/monai/engines/workflow.py?line=276'>277</a>\u001b[0m     \u001b[39mreturn\u001b[39;00m\n\u001b[0;32m--> <a href='file:///home/cosminciausu/miniconda3/envs/prostate158/lib/python3.8/site-packages/monai/engines/workflow.py?line=277'>278</a>\u001b[0m \u001b[39msuper\u001b[39;49m()\u001b[39m.\u001b[39;49mrun(data\u001b[39m=\u001b[39;49m\u001b[39mself\u001b[39;49m\u001b[39m.\u001b[39;49mdata_loader, max_epochs\u001b[39m=\u001b[39;49m\u001b[39mself\u001b[39;49m\u001b[39m.\u001b[39;49mstate\u001b[39m.\u001b[39;49mmax_epochs)\n",
      "File \u001b[0;32m~/miniconda3/envs/prostate158/lib/python3.8/site-packages/ignite/engine/engine.py:892\u001b[0m, in \u001b[0;36mEngine.run\u001b[0;34m(self, data, max_epochs, epoch_length, seed)\u001b[0m\n\u001b[1;32m    <a href='file:///home/cosminciausu/miniconda3/envs/prostate158/lib/python3.8/site-packages/ignite/engine/engine.py?line=888'>889</a>\u001b[0m     \u001b[39mself\u001b[39m\u001b[39m.\u001b[39mstate\u001b[39m.\u001b[39mdataloader \u001b[39m=\u001b[39m data\n\u001b[1;32m    <a href='file:///home/cosminciausu/miniconda3/envs/prostate158/lib/python3.8/site-packages/ignite/engine/engine.py?line=890'>891</a>\u001b[0m \u001b[39mif\u001b[39;00m \u001b[39mself\u001b[39m\u001b[39m.\u001b[39minterrupt_resume_enabled:\n\u001b[0;32m--> <a href='file:///home/cosminciausu/miniconda3/envs/prostate158/lib/python3.8/site-packages/ignite/engine/engine.py?line=891'>892</a>\u001b[0m     \u001b[39mreturn\u001b[39;00m \u001b[39mself\u001b[39;49m\u001b[39m.\u001b[39;49m_internal_run()\n\u001b[1;32m    <a href='file:///home/cosminciausu/miniconda3/envs/prostate158/lib/python3.8/site-packages/ignite/engine/engine.py?line=892'>893</a>\u001b[0m \u001b[39melse\u001b[39;00m:\n\u001b[1;32m    <a href='file:///home/cosminciausu/miniconda3/envs/prostate158/lib/python3.8/site-packages/ignite/engine/engine.py?line=893'>894</a>\u001b[0m     \u001b[39mreturn\u001b[39;00m \u001b[39mself\u001b[39m\u001b[39m.\u001b[39m_internal_run_legacy()\n",
      "File \u001b[0;32m~/miniconda3/envs/prostate158/lib/python3.8/site-packages/ignite/engine/engine.py:935\u001b[0m, in \u001b[0;36mEngine._internal_run\u001b[0;34m(self)\u001b[0m\n\u001b[1;32m    <a href='file:///home/cosminciausu/miniconda3/envs/prostate158/lib/python3.8/site-packages/ignite/engine/engine.py?line=932'>933</a>\u001b[0m     \u001b[39mself\u001b[39m\u001b[39m.\u001b[39m_internal_run_generator \u001b[39m=\u001b[39m \u001b[39mself\u001b[39m\u001b[39m.\u001b[39m_internal_run_as_gen()\n\u001b[1;32m    <a href='file:///home/cosminciausu/miniconda3/envs/prostate158/lib/python3.8/site-packages/ignite/engine/engine.py?line=933'>934</a>\u001b[0m \u001b[39mtry\u001b[39;00m:\n\u001b[0;32m--> <a href='file:///home/cosminciausu/miniconda3/envs/prostate158/lib/python3.8/site-packages/ignite/engine/engine.py?line=934'>935</a>\u001b[0m     \u001b[39mreturn\u001b[39;00m \u001b[39mnext\u001b[39;49m(\u001b[39mself\u001b[39;49m\u001b[39m.\u001b[39;49m_internal_run_generator)\n\u001b[1;32m    <a href='file:///home/cosminciausu/miniconda3/envs/prostate158/lib/python3.8/site-packages/ignite/engine/engine.py?line=935'>936</a>\u001b[0m \u001b[39mexcept\u001b[39;00m \u001b[39mStopIteration\u001b[39;00m \u001b[39mas\u001b[39;00m out:\n\u001b[1;32m    <a href='file:///home/cosminciausu/miniconda3/envs/prostate158/lib/python3.8/site-packages/ignite/engine/engine.py?line=936'>937</a>\u001b[0m     \u001b[39mself\u001b[39m\u001b[39m.\u001b[39m_internal_run_generator \u001b[39m=\u001b[39m \u001b[39mNone\u001b[39;00m\n",
      "File \u001b[0;32m~/miniconda3/envs/prostate158/lib/python3.8/site-packages/ignite/engine/engine.py:993\u001b[0m, in \u001b[0;36mEngine._internal_run_as_gen\u001b[0;34m(self)\u001b[0m\n\u001b[1;32m    <a href='file:///home/cosminciausu/miniconda3/envs/prostate158/lib/python3.8/site-packages/ignite/engine/engine.py?line=990'>991</a>\u001b[0m     \u001b[39mself\u001b[39m\u001b[39m.\u001b[39m_dataloader_iter \u001b[39m=\u001b[39m \u001b[39mNone\u001b[39;00m\n\u001b[1;32m    <a href='file:///home/cosminciausu/miniconda3/envs/prostate158/lib/python3.8/site-packages/ignite/engine/engine.py?line=991'>992</a>\u001b[0m     \u001b[39mself\u001b[39m\u001b[39m.\u001b[39mlogger\u001b[39m.\u001b[39merror(\u001b[39mf\u001b[39m\u001b[39m\"\u001b[39m\u001b[39mEngine run is terminating due to exception: \u001b[39m\u001b[39m{\u001b[39;00me\u001b[39m}\u001b[39;00m\u001b[39m\"\u001b[39m)\n\u001b[0;32m--> <a href='file:///home/cosminciausu/miniconda3/envs/prostate158/lib/python3.8/site-packages/ignite/engine/engine.py?line=992'>993</a>\u001b[0m     \u001b[39mself\u001b[39;49m\u001b[39m.\u001b[39;49m_handle_exception(e)\n\u001b[1;32m    <a href='file:///home/cosminciausu/miniconda3/envs/prostate158/lib/python3.8/site-packages/ignite/engine/engine.py?line=994'>995</a>\u001b[0m \u001b[39mself\u001b[39m\u001b[39m.\u001b[39m_dataloader_iter \u001b[39m=\u001b[39m \u001b[39mNone\u001b[39;00m\n\u001b[1;32m    <a href='file:///home/cosminciausu/miniconda3/envs/prostate158/lib/python3.8/site-packages/ignite/engine/engine.py?line=995'>996</a>\u001b[0m \u001b[39mreturn\u001b[39;00m \u001b[39mself\u001b[39m\u001b[39m.\u001b[39mstate\n",
      "File \u001b[0;32m~/miniconda3/envs/prostate158/lib/python3.8/site-packages/ignite/engine/engine.py:636\u001b[0m, in \u001b[0;36mEngine._handle_exception\u001b[0;34m(self, e)\u001b[0m\n\u001b[1;32m    <a href='file:///home/cosminciausu/miniconda3/envs/prostate158/lib/python3.8/site-packages/ignite/engine/engine.py?line=633'>634</a>\u001b[0m \u001b[39mdef\u001b[39;00m \u001b[39m_handle_exception\u001b[39m(\u001b[39mself\u001b[39m, e: \u001b[39mBaseException\u001b[39;00m) \u001b[39m-\u001b[39m\u001b[39m>\u001b[39m \u001b[39mNone\u001b[39;00m:\n\u001b[1;32m    <a href='file:///home/cosminciausu/miniconda3/envs/prostate158/lib/python3.8/site-packages/ignite/engine/engine.py?line=634'>635</a>\u001b[0m     \u001b[39mif\u001b[39;00m Events\u001b[39m.\u001b[39mEXCEPTION_RAISED \u001b[39min\u001b[39;00m \u001b[39mself\u001b[39m\u001b[39m.\u001b[39m_event_handlers:\n\u001b[0;32m--> <a href='file:///home/cosminciausu/miniconda3/envs/prostate158/lib/python3.8/site-packages/ignite/engine/engine.py?line=635'>636</a>\u001b[0m         \u001b[39mself\u001b[39;49m\u001b[39m.\u001b[39;49m_fire_event(Events\u001b[39m.\u001b[39;49mEXCEPTION_RAISED, e)\n\u001b[1;32m    <a href='file:///home/cosminciausu/miniconda3/envs/prostate158/lib/python3.8/site-packages/ignite/engine/engine.py?line=636'>637</a>\u001b[0m     \u001b[39melse\u001b[39;00m:\n\u001b[1;32m    <a href='file:///home/cosminciausu/miniconda3/envs/prostate158/lib/python3.8/site-packages/ignite/engine/engine.py?line=637'>638</a>\u001b[0m         \u001b[39mraise\u001b[39;00m e\n",
      "File \u001b[0;32m~/miniconda3/envs/prostate158/lib/python3.8/site-packages/ignite/engine/engine.py:425\u001b[0m, in \u001b[0;36mEngine._fire_event\u001b[0;34m(self, event_name, *event_args, **event_kwargs)\u001b[0m\n\u001b[1;32m    <a href='file:///home/cosminciausu/miniconda3/envs/prostate158/lib/python3.8/site-packages/ignite/engine/engine.py?line=422'>423</a>\u001b[0m kwargs\u001b[39m.\u001b[39mupdate(event_kwargs)\n\u001b[1;32m    <a href='file:///home/cosminciausu/miniconda3/envs/prostate158/lib/python3.8/site-packages/ignite/engine/engine.py?line=423'>424</a>\u001b[0m first, others \u001b[39m=\u001b[39m ((args[\u001b[39m0\u001b[39m],), args[\u001b[39m1\u001b[39m:]) \u001b[39mif\u001b[39;00m (args \u001b[39mand\u001b[39;00m args[\u001b[39m0\u001b[39m] \u001b[39m==\u001b[39m \u001b[39mself\u001b[39m) \u001b[39melse\u001b[39;00m ((), args)\n\u001b[0;32m--> <a href='file:///home/cosminciausu/miniconda3/envs/prostate158/lib/python3.8/site-packages/ignite/engine/engine.py?line=424'>425</a>\u001b[0m func(\u001b[39m*\u001b[39;49mfirst, \u001b[39m*\u001b[39;49m(event_args \u001b[39m+\u001b[39;49m others), \u001b[39m*\u001b[39;49m\u001b[39m*\u001b[39;49mkwargs)\n",
      "File \u001b[0;32m~/miniconda3/envs/prostate158/lib/python3.8/site-packages/monai/handlers/stats_handler.py:179\u001b[0m, in \u001b[0;36mStatsHandler.exception_raised\u001b[0;34m(self, _engine, e)\u001b[0m\n\u001b[1;32m    <a href='file:///home/cosminciausu/miniconda3/envs/prostate158/lib/python3.8/site-packages/monai/handlers/stats_handler.py?line=167'>168</a>\u001b[0m \u001b[39m\"\"\"\u001b[39;00m\n\u001b[1;32m    <a href='file:///home/cosminciausu/miniconda3/envs/prostate158/lib/python3.8/site-packages/monai/handlers/stats_handler.py?line=168'>169</a>\u001b[0m \u001b[39mHandler for train or validation/evaluation exception raised Event.\u001b[39;00m\n\u001b[1;32m    <a href='file:///home/cosminciausu/miniconda3/envs/prostate158/lib/python3.8/site-packages/monai/handlers/stats_handler.py?line=169'>170</a>\u001b[0m \u001b[39mPrint the exception information and traceback. This callback may be skipped because the logic\u001b[39;00m\n\u001b[0;32m   (...)\u001b[0m\n\u001b[1;32m    <a href='file:///home/cosminciausu/miniconda3/envs/prostate158/lib/python3.8/site-packages/monai/handlers/stats_handler.py?line=175'>176</a>\u001b[0m \n\u001b[1;32m    <a href='file:///home/cosminciausu/miniconda3/envs/prostate158/lib/python3.8/site-packages/monai/handlers/stats_handler.py?line=176'>177</a>\u001b[0m \u001b[39m\"\"\"\u001b[39;00m\n\u001b[1;32m    <a href='file:///home/cosminciausu/miniconda3/envs/prostate158/lib/python3.8/site-packages/monai/handlers/stats_handler.py?line=177'>178</a>\u001b[0m \u001b[39mself\u001b[39m\u001b[39m.\u001b[39mlogger\u001b[39m.\u001b[39mexception(\u001b[39mf\u001b[39m\u001b[39m\"\u001b[39m\u001b[39mException: \u001b[39m\u001b[39m{\u001b[39;00me\u001b[39m}\u001b[39;00m\u001b[39m\"\u001b[39m)\n\u001b[0;32m--> <a href='file:///home/cosminciausu/miniconda3/envs/prostate158/lib/python3.8/site-packages/monai/handlers/stats_handler.py?line=178'>179</a>\u001b[0m \u001b[39mraise\u001b[39;00m e\n",
      "File \u001b[0;32m~/miniconda3/envs/prostate158/lib/python3.8/site-packages/ignite/engine/engine.py:959\u001b[0m, in \u001b[0;36mEngine._internal_run_as_gen\u001b[0;34m(self)\u001b[0m\n\u001b[1;32m    <a href='file:///home/cosminciausu/miniconda3/envs/prostate158/lib/python3.8/site-packages/ignite/engine/engine.py?line=955'>956</a>\u001b[0m \u001b[39mif\u001b[39;00m \u001b[39mself\u001b[39m\u001b[39m.\u001b[39m_dataloader_iter \u001b[39mis\u001b[39;00m \u001b[39mNone\u001b[39;00m:\n\u001b[1;32m    <a href='file:///home/cosminciausu/miniconda3/envs/prostate158/lib/python3.8/site-packages/ignite/engine/engine.py?line=956'>957</a>\u001b[0m     \u001b[39mself\u001b[39m\u001b[39m.\u001b[39m_setup_engine()\n\u001b[0;32m--> <a href='file:///home/cosminciausu/miniconda3/envs/prostate158/lib/python3.8/site-packages/ignite/engine/engine.py?line=958'>959</a>\u001b[0m epoch_time_taken \u001b[39m+\u001b[39m\u001b[39m=\u001b[39m \u001b[39myield from\u001b[39;00m \u001b[39mself\u001b[39m\u001b[39m.\u001b[39m_run_once_on_dataset_as_gen()\n\u001b[1;32m    <a href='file:///home/cosminciausu/miniconda3/envs/prostate158/lib/python3.8/site-packages/ignite/engine/engine.py?line=960'>961</a>\u001b[0m \u001b[39m# time is available for handlers but must be updated after fire\u001b[39;00m\n\u001b[1;32m    <a href='file:///home/cosminciausu/miniconda3/envs/prostate158/lib/python3.8/site-packages/ignite/engine/engine.py?line=961'>962</a>\u001b[0m \u001b[39mself\u001b[39m\u001b[39m.\u001b[39mstate\u001b[39m.\u001b[39mtimes[Events\u001b[39m.\u001b[39mEPOCH_COMPLETED\u001b[39m.\u001b[39mname] \u001b[39m=\u001b[39m epoch_time_taken\n",
      "File \u001b[0;32m~/miniconda3/envs/prostate158/lib/python3.8/site-packages/ignite/engine/engine.py:1087\u001b[0m, in \u001b[0;36mEngine._run_once_on_dataset_as_gen\u001b[0;34m(self)\u001b[0m\n\u001b[1;32m   <a href='file:///home/cosminciausu/miniconda3/envs/prostate158/lib/python3.8/site-packages/ignite/engine/engine.py?line=1084'>1085</a>\u001b[0m \u001b[39mexcept\u001b[39;00m \u001b[39mException\u001b[39;00m \u001b[39mas\u001b[39;00m e:\n\u001b[1;32m   <a href='file:///home/cosminciausu/miniconda3/envs/prostate158/lib/python3.8/site-packages/ignite/engine/engine.py?line=1085'>1086</a>\u001b[0m     \u001b[39mself\u001b[39m\u001b[39m.\u001b[39mlogger\u001b[39m.\u001b[39merror(\u001b[39mf\u001b[39m\u001b[39m\"\u001b[39m\u001b[39mCurrent run is terminating due to exception: \u001b[39m\u001b[39m{\u001b[39;00me\u001b[39m}\u001b[39;00m\u001b[39m\"\u001b[39m)\n\u001b[0;32m-> <a href='file:///home/cosminciausu/miniconda3/envs/prostate158/lib/python3.8/site-packages/ignite/engine/engine.py?line=1086'>1087</a>\u001b[0m     \u001b[39mself\u001b[39;49m\u001b[39m.\u001b[39;49m_handle_exception(e)\n\u001b[1;32m   <a href='file:///home/cosminciausu/miniconda3/envs/prostate158/lib/python3.8/site-packages/ignite/engine/engine.py?line=1088'>1089</a>\u001b[0m \u001b[39mreturn\u001b[39;00m time\u001b[39m.\u001b[39mtime() \u001b[39m-\u001b[39m start_time\n",
      "File \u001b[0;32m~/miniconda3/envs/prostate158/lib/python3.8/site-packages/ignite/engine/engine.py:636\u001b[0m, in \u001b[0;36mEngine._handle_exception\u001b[0;34m(self, e)\u001b[0m\n\u001b[1;32m    <a href='file:///home/cosminciausu/miniconda3/envs/prostate158/lib/python3.8/site-packages/ignite/engine/engine.py?line=633'>634</a>\u001b[0m \u001b[39mdef\u001b[39;00m \u001b[39m_handle_exception\u001b[39m(\u001b[39mself\u001b[39m, e: \u001b[39mBaseException\u001b[39;00m) \u001b[39m-\u001b[39m\u001b[39m>\u001b[39m \u001b[39mNone\u001b[39;00m:\n\u001b[1;32m    <a href='file:///home/cosminciausu/miniconda3/envs/prostate158/lib/python3.8/site-packages/ignite/engine/engine.py?line=634'>635</a>\u001b[0m     \u001b[39mif\u001b[39;00m Events\u001b[39m.\u001b[39mEXCEPTION_RAISED \u001b[39min\u001b[39;00m \u001b[39mself\u001b[39m\u001b[39m.\u001b[39m_event_handlers:\n\u001b[0;32m--> <a href='file:///home/cosminciausu/miniconda3/envs/prostate158/lib/python3.8/site-packages/ignite/engine/engine.py?line=635'>636</a>\u001b[0m         \u001b[39mself\u001b[39;49m\u001b[39m.\u001b[39;49m_fire_event(Events\u001b[39m.\u001b[39;49mEXCEPTION_RAISED, e)\n\u001b[1;32m    <a href='file:///home/cosminciausu/miniconda3/envs/prostate158/lib/python3.8/site-packages/ignite/engine/engine.py?line=636'>637</a>\u001b[0m     \u001b[39melse\u001b[39;00m:\n\u001b[1;32m    <a href='file:///home/cosminciausu/miniconda3/envs/prostate158/lib/python3.8/site-packages/ignite/engine/engine.py?line=637'>638</a>\u001b[0m         \u001b[39mraise\u001b[39;00m e\n",
      "File \u001b[0;32m~/miniconda3/envs/prostate158/lib/python3.8/site-packages/ignite/engine/engine.py:425\u001b[0m, in \u001b[0;36mEngine._fire_event\u001b[0;34m(self, event_name, *event_args, **event_kwargs)\u001b[0m\n\u001b[1;32m    <a href='file:///home/cosminciausu/miniconda3/envs/prostate158/lib/python3.8/site-packages/ignite/engine/engine.py?line=422'>423</a>\u001b[0m kwargs\u001b[39m.\u001b[39mupdate(event_kwargs)\n\u001b[1;32m    <a href='file:///home/cosminciausu/miniconda3/envs/prostate158/lib/python3.8/site-packages/ignite/engine/engine.py?line=423'>424</a>\u001b[0m first, others \u001b[39m=\u001b[39m ((args[\u001b[39m0\u001b[39m],), args[\u001b[39m1\u001b[39m:]) \u001b[39mif\u001b[39;00m (args \u001b[39mand\u001b[39;00m args[\u001b[39m0\u001b[39m] \u001b[39m==\u001b[39m \u001b[39mself\u001b[39m) \u001b[39melse\u001b[39;00m ((), args)\n\u001b[0;32m--> <a href='file:///home/cosminciausu/miniconda3/envs/prostate158/lib/python3.8/site-packages/ignite/engine/engine.py?line=424'>425</a>\u001b[0m func(\u001b[39m*\u001b[39;49mfirst, \u001b[39m*\u001b[39;49m(event_args \u001b[39m+\u001b[39;49m others), \u001b[39m*\u001b[39;49m\u001b[39m*\u001b[39;49mkwargs)\n",
      "File \u001b[0;32m~/miniconda3/envs/prostate158/lib/python3.8/site-packages/monai/handlers/stats_handler.py:179\u001b[0m, in \u001b[0;36mStatsHandler.exception_raised\u001b[0;34m(self, _engine, e)\u001b[0m\n\u001b[1;32m    <a href='file:///home/cosminciausu/miniconda3/envs/prostate158/lib/python3.8/site-packages/monai/handlers/stats_handler.py?line=167'>168</a>\u001b[0m \u001b[39m\"\"\"\u001b[39;00m\n\u001b[1;32m    <a href='file:///home/cosminciausu/miniconda3/envs/prostate158/lib/python3.8/site-packages/monai/handlers/stats_handler.py?line=168'>169</a>\u001b[0m \u001b[39mHandler for train or validation/evaluation exception raised Event.\u001b[39;00m\n\u001b[1;32m    <a href='file:///home/cosminciausu/miniconda3/envs/prostate158/lib/python3.8/site-packages/monai/handlers/stats_handler.py?line=169'>170</a>\u001b[0m \u001b[39mPrint the exception information and traceback. This callback may be skipped because the logic\u001b[39;00m\n\u001b[0;32m   (...)\u001b[0m\n\u001b[1;32m    <a href='file:///home/cosminciausu/miniconda3/envs/prostate158/lib/python3.8/site-packages/monai/handlers/stats_handler.py?line=175'>176</a>\u001b[0m \n\u001b[1;32m    <a href='file:///home/cosminciausu/miniconda3/envs/prostate158/lib/python3.8/site-packages/monai/handlers/stats_handler.py?line=176'>177</a>\u001b[0m \u001b[39m\"\"\"\u001b[39;00m\n\u001b[1;32m    <a href='file:///home/cosminciausu/miniconda3/envs/prostate158/lib/python3.8/site-packages/monai/handlers/stats_handler.py?line=177'>178</a>\u001b[0m \u001b[39mself\u001b[39m\u001b[39m.\u001b[39mlogger\u001b[39m.\u001b[39mexception(\u001b[39mf\u001b[39m\u001b[39m\"\u001b[39m\u001b[39mException: \u001b[39m\u001b[39m{\u001b[39;00me\u001b[39m}\u001b[39;00m\u001b[39m\"\u001b[39m)\n\u001b[0;32m--> <a href='file:///home/cosminciausu/miniconda3/envs/prostate158/lib/python3.8/site-packages/monai/handlers/stats_handler.py?line=178'>179</a>\u001b[0m \u001b[39mraise\u001b[39;00m e\n",
      "File \u001b[0;32m~/miniconda3/envs/prostate158/lib/python3.8/site-packages/ignite/engine/engine.py:1069\u001b[0m, in \u001b[0;36mEngine._run_once_on_dataset_as_gen\u001b[0;34m(self)\u001b[0m\n\u001b[1;32m   <a href='file:///home/cosminciausu/miniconda3/envs/prostate158/lib/python3.8/site-packages/ignite/engine/engine.py?line=1065'>1066</a>\u001b[0m \u001b[39myield from\u001b[39;00m \u001b[39mself\u001b[39m\u001b[39m.\u001b[39m_maybe_terminate_or_interrupt()\n\u001b[1;32m   <a href='file:///home/cosminciausu/miniconda3/envs/prostate158/lib/python3.8/site-packages/ignite/engine/engine.py?line=1067'>1068</a>\u001b[0m \u001b[39mself\u001b[39m\u001b[39m.\u001b[39mstate\u001b[39m.\u001b[39moutput \u001b[39m=\u001b[39m \u001b[39mself\u001b[39m\u001b[39m.\u001b[39m_process_function(\u001b[39mself\u001b[39m, \u001b[39mself\u001b[39m\u001b[39m.\u001b[39mstate\u001b[39m.\u001b[39mbatch)\n\u001b[0;32m-> <a href='file:///home/cosminciausu/miniconda3/envs/prostate158/lib/python3.8/site-packages/ignite/engine/engine.py?line=1068'>1069</a>\u001b[0m \u001b[39mself\u001b[39;49m\u001b[39m.\u001b[39;49m_fire_event(Events\u001b[39m.\u001b[39;49mITERATION_COMPLETED)\n\u001b[1;32m   <a href='file:///home/cosminciausu/miniconda3/envs/prostate158/lib/python3.8/site-packages/ignite/engine/engine.py?line=1069'>1070</a>\u001b[0m \u001b[39myield from\u001b[39;00m \u001b[39mself\u001b[39m\u001b[39m.\u001b[39m_maybe_terminate_or_interrupt()\n\u001b[1;32m   <a href='file:///home/cosminciausu/miniconda3/envs/prostate158/lib/python3.8/site-packages/ignite/engine/engine.py?line=1071'>1072</a>\u001b[0m \u001b[39mif\u001b[39;00m \u001b[39mself\u001b[39m\u001b[39m.\u001b[39mstate\u001b[39m.\u001b[39mepoch_length \u001b[39mis\u001b[39;00m \u001b[39mnot\u001b[39;00m \u001b[39mNone\u001b[39;00m \u001b[39mand\u001b[39;00m iter_counter \u001b[39m==\u001b[39m \u001b[39mself\u001b[39m\u001b[39m.\u001b[39mstate\u001b[39m.\u001b[39mepoch_length:\n",
      "File \u001b[0;32m~/miniconda3/envs/prostate158/lib/python3.8/site-packages/ignite/engine/engine.py:425\u001b[0m, in \u001b[0;36mEngine._fire_event\u001b[0;34m(self, event_name, *event_args, **event_kwargs)\u001b[0m\n\u001b[1;32m    <a href='file:///home/cosminciausu/miniconda3/envs/prostate158/lib/python3.8/site-packages/ignite/engine/engine.py?line=422'>423</a>\u001b[0m kwargs\u001b[39m.\u001b[39mupdate(event_kwargs)\n\u001b[1;32m    <a href='file:///home/cosminciausu/miniconda3/envs/prostate158/lib/python3.8/site-packages/ignite/engine/engine.py?line=423'>424</a>\u001b[0m first, others \u001b[39m=\u001b[39m ((args[\u001b[39m0\u001b[39m],), args[\u001b[39m1\u001b[39m:]) \u001b[39mif\u001b[39;00m (args \u001b[39mand\u001b[39;00m args[\u001b[39m0\u001b[39m] \u001b[39m==\u001b[39m \u001b[39mself\u001b[39m) \u001b[39melse\u001b[39;00m ((), args)\n\u001b[0;32m--> <a href='file:///home/cosminciausu/miniconda3/envs/prostate158/lib/python3.8/site-packages/ignite/engine/engine.py?line=424'>425</a>\u001b[0m func(\u001b[39m*\u001b[39;49mfirst, \u001b[39m*\u001b[39;49m(event_args \u001b[39m+\u001b[39;49m others), \u001b[39m*\u001b[39;49m\u001b[39m*\u001b[39;49mkwargs)\n",
      "File \u001b[0;32m~/miniconda3/envs/prostate158/lib/python3.8/site-packages/torch/autograd/grad_mode.py:27\u001b[0m, in \u001b[0;36m_DecoratorContextManager.__call__.<locals>.decorate_context\u001b[0;34m(*args, **kwargs)\u001b[0m\n\u001b[1;32m     <a href='file:///home/cosminciausu/miniconda3/envs/prostate158/lib/python3.8/site-packages/torch/autograd/grad_mode.py?line=23'>24</a>\u001b[0m \u001b[39m@functools\u001b[39m\u001b[39m.\u001b[39mwraps(func)\n\u001b[1;32m     <a href='file:///home/cosminciausu/miniconda3/envs/prostate158/lib/python3.8/site-packages/torch/autograd/grad_mode.py?line=24'>25</a>\u001b[0m \u001b[39mdef\u001b[39;00m \u001b[39mdecorate_context\u001b[39m(\u001b[39m*\u001b[39margs, \u001b[39m*\u001b[39m\u001b[39m*\u001b[39mkwargs):\n\u001b[1;32m     <a href='file:///home/cosminciausu/miniconda3/envs/prostate158/lib/python3.8/site-packages/torch/autograd/grad_mode.py?line=25'>26</a>\u001b[0m     \u001b[39mwith\u001b[39;00m \u001b[39mself\u001b[39m\u001b[39m.\u001b[39mclone():\n\u001b[0;32m---> <a href='file:///home/cosminciausu/miniconda3/envs/prostate158/lib/python3.8/site-packages/torch/autograd/grad_mode.py?line=26'>27</a>\u001b[0m         \u001b[39mreturn\u001b[39;00m func(\u001b[39m*\u001b[39;49margs, \u001b[39m*\u001b[39;49m\u001b[39m*\u001b[39;49mkwargs)\n",
      "File \u001b[0;32m~/miniconda3/envs/prostate158/lib/python3.8/site-packages/ignite/metrics/metric.py:309\u001b[0m, in \u001b[0;36mMetric.iteration_completed\u001b[0;34m(self, engine)\u001b[0m\n\u001b[1;32m    <a href='file:///home/cosminciausu/miniconda3/envs/prostate158/lib/python3.8/site-packages/ignite/metrics/metric.py?line=306'>307</a>\u001b[0m         tensor_o1 \u001b[39m=\u001b[39m _to_batched_tensor(o1)\n\u001b[1;32m    <a href='file:///home/cosminciausu/miniconda3/envs/prostate158/lib/python3.8/site-packages/ignite/metrics/metric.py?line=307'>308</a>\u001b[0m         tensor_o2 \u001b[39m=\u001b[39m _to_batched_tensor(o2, device\u001b[39m=\u001b[39mtensor_o1\u001b[39m.\u001b[39mdevice)\n\u001b[0;32m--> <a href='file:///home/cosminciausu/miniconda3/envs/prostate158/lib/python3.8/site-packages/ignite/metrics/metric.py?line=308'>309</a>\u001b[0m         \u001b[39mself\u001b[39;49m\u001b[39m.\u001b[39;49mupdate((tensor_o1, tensor_o2))\n\u001b[1;32m    <a href='file:///home/cosminciausu/miniconda3/envs/prostate158/lib/python3.8/site-packages/ignite/metrics/metric.py?line=309'>310</a>\u001b[0m \u001b[39melse\u001b[39;00m:\n\u001b[1;32m    <a href='file:///home/cosminciausu/miniconda3/envs/prostate158/lib/python3.8/site-packages/ignite/metrics/metric.py?line=310'>311</a>\u001b[0m     \u001b[39mself\u001b[39m\u001b[39m.\u001b[39mupdate(output)\n",
      "File \u001b[0;32m~/miniconda3/envs/prostate158/lib/python3.8/site-packages/ignite/metrics/metric.py:596\u001b[0m, in \u001b[0;36mreinit__is_reduced.<locals>.wrapper\u001b[0;34m(self, *args, **kwargs)\u001b[0m\n\u001b[1;32m    <a href='file:///home/cosminciausu/miniconda3/envs/prostate158/lib/python3.8/site-packages/ignite/metrics/metric.py?line=593'>594</a>\u001b[0m \u001b[39m@wraps\u001b[39m(func)\n\u001b[1;32m    <a href='file:///home/cosminciausu/miniconda3/envs/prostate158/lib/python3.8/site-packages/ignite/metrics/metric.py?line=594'>595</a>\u001b[0m \u001b[39mdef\u001b[39;00m \u001b[39mwrapper\u001b[39m(\u001b[39mself\u001b[39m: Metric, \u001b[39m*\u001b[39margs: Any, \u001b[39m*\u001b[39m\u001b[39m*\u001b[39mkwargs: Any) \u001b[39m-\u001b[39m\u001b[39m>\u001b[39m \u001b[39mNone\u001b[39;00m:\n\u001b[0;32m--> <a href='file:///home/cosminciausu/miniconda3/envs/prostate158/lib/python3.8/site-packages/ignite/metrics/metric.py?line=595'>596</a>\u001b[0m     func(\u001b[39mself\u001b[39;49m, \u001b[39m*\u001b[39;49margs, \u001b[39m*\u001b[39;49m\u001b[39m*\u001b[39;49mkwargs)\n\u001b[1;32m    <a href='file:///home/cosminciausu/miniconda3/envs/prostate158/lib/python3.8/site-packages/ignite/metrics/metric.py?line=596'>597</a>\u001b[0m     \u001b[39mself\u001b[39m\u001b[39m.\u001b[39m_is_reduced \u001b[39m=\u001b[39m \u001b[39mFalse\u001b[39;00m\n",
      "File \u001b[0;32m~/miniconda3/envs/prostate158/lib/python3.8/site-packages/monai/handlers/ignite_metric.py:82\u001b[0m, in \u001b[0;36mIgniteMetric.update\u001b[0;34m(self, output)\u001b[0m\n\u001b[1;32m     <a href='file:///home/cosminciausu/miniconda3/envs/prostate158/lib/python3.8/site-packages/monai/handlers/ignite_metric.py?line=77'>78</a>\u001b[0m     \u001b[39mraise\u001b[39;00m \u001b[39mValueError\u001b[39;00m(\u001b[39mf\u001b[39m\u001b[39m\"\u001b[39m\u001b[39moutput must have length 2, got \u001b[39m\u001b[39m{\u001b[39;00m\u001b[39mlen\u001b[39m(output)\u001b[39m}\u001b[39;00m\u001b[39m.\u001b[39m\u001b[39m\"\u001b[39m)\n\u001b[1;32m     <a href='file:///home/cosminciausu/miniconda3/envs/prostate158/lib/python3.8/site-packages/monai/handlers/ignite_metric.py?line=79'>80</a>\u001b[0m y_pred, y \u001b[39m=\u001b[39m output\n\u001b[0;32m---> <a href='file:///home/cosminciausu/miniconda3/envs/prostate158/lib/python3.8/site-packages/monai/handlers/ignite_metric.py?line=81'>82</a>\u001b[0m \u001b[39mself\u001b[39;49m\u001b[39m.\u001b[39;49mmetric_fn(y_pred, y)\n",
      "File \u001b[0;32m~/miniconda3/envs/prostate158/lib/python3.8/site-packages/monai/metrics/metric.py:329\u001b[0m, in \u001b[0;36mCumulativeIterationMetric.__call__\u001b[0;34m(self, y_pred, y)\u001b[0m\n\u001b[1;32m    <a href='file:///home/cosminciausu/miniconda3/envs/prostate158/lib/python3.8/site-packages/monai/metrics/metric.py?line=312'>313</a>\u001b[0m \u001b[39mdef\u001b[39;00m \u001b[39m__call__\u001b[39m(\u001b[39mself\u001b[39m, y_pred: TensorOrList, y: Optional[TensorOrList] \u001b[39m=\u001b[39m \u001b[39mNone\u001b[39;00m):\n\u001b[1;32m    <a href='file:///home/cosminciausu/miniconda3/envs/prostate158/lib/python3.8/site-packages/monai/metrics/metric.py?line=313'>314</a>\u001b[0m     \u001b[39m\"\"\"\u001b[39;00m\n\u001b[1;32m    <a href='file:///home/cosminciausu/miniconda3/envs/prostate158/lib/python3.8/site-packages/monai/metrics/metric.py?line=314'>315</a>\u001b[0m \u001b[39m    Execute basic computation for model prediction and ground truth.\u001b[39;00m\n\u001b[1;32m    <a href='file:///home/cosminciausu/miniconda3/envs/prostate158/lib/python3.8/site-packages/monai/metrics/metric.py?line=315'>316</a>\u001b[0m \u001b[39m    It can support  both `list of channel-first Tensor` and `batch-first Tensor`.\u001b[39;00m\n\u001b[0;32m   (...)\u001b[0m\n\u001b[1;32m    <a href='file:///home/cosminciausu/miniconda3/envs/prostate158/lib/python3.8/site-packages/monai/metrics/metric.py?line=326'>327</a>\u001b[0m \u001b[39m        The computed metric values at the iteration level.\u001b[39;00m\n\u001b[1;32m    <a href='file:///home/cosminciausu/miniconda3/envs/prostate158/lib/python3.8/site-packages/monai/metrics/metric.py?line=327'>328</a>\u001b[0m \u001b[39m    \"\"\"\u001b[39;00m\n\u001b[0;32m--> <a href='file:///home/cosminciausu/miniconda3/envs/prostate158/lib/python3.8/site-packages/monai/metrics/metric.py?line=328'>329</a>\u001b[0m     ret \u001b[39m=\u001b[39m \u001b[39msuper\u001b[39;49m()\u001b[39m.\u001b[39;49m\u001b[39m__call__\u001b[39;49m(y_pred\u001b[39m=\u001b[39;49my_pred, y\u001b[39m=\u001b[39;49my)\n\u001b[1;32m    <a href='file:///home/cosminciausu/miniconda3/envs/prostate158/lib/python3.8/site-packages/monai/metrics/metric.py?line=329'>330</a>\u001b[0m     \u001b[39mif\u001b[39;00m \u001b[39misinstance\u001b[39m(ret, (\u001b[39mtuple\u001b[39m, \u001b[39mlist\u001b[39m)):\n\u001b[1;32m    <a href='file:///home/cosminciausu/miniconda3/envs/prostate158/lib/python3.8/site-packages/monai/metrics/metric.py?line=330'>331</a>\u001b[0m         \u001b[39mself\u001b[39m\u001b[39m.\u001b[39mextend(\u001b[39m*\u001b[39mret)\n",
      "File \u001b[0;32m~/miniconda3/envs/prostate158/lib/python3.8/site-packages/monai/metrics/metric.py:72\u001b[0m, in \u001b[0;36mIterationMetric.__call__\u001b[0;34m(self, y_pred, y)\u001b[0m\n\u001b[1;32m     <a href='file:///home/cosminciausu/miniconda3/envs/prostate158/lib/python3.8/site-packages/monai/metrics/metric.py?line=69'>70</a>\u001b[0m \u001b[39mif\u001b[39;00m \u001b[39misinstance\u001b[39m(y_pred, torch\u001b[39m.\u001b[39mTensor):\n\u001b[1;32m     <a href='file:///home/cosminciausu/miniconda3/envs/prostate158/lib/python3.8/site-packages/monai/metrics/metric.py?line=70'>71</a>\u001b[0m     y_ \u001b[39m=\u001b[39m y\u001b[39m.\u001b[39mdetach() \u001b[39mif\u001b[39;00m \u001b[39misinstance\u001b[39m(y, torch\u001b[39m.\u001b[39mTensor) \u001b[39melse\u001b[39;00m \u001b[39mNone\u001b[39;00m\n\u001b[0;32m---> <a href='file:///home/cosminciausu/miniconda3/envs/prostate158/lib/python3.8/site-packages/monai/metrics/metric.py?line=71'>72</a>\u001b[0m     \u001b[39mreturn\u001b[39;00m \u001b[39mself\u001b[39;49m\u001b[39m.\u001b[39;49m_compute_tensor(y_pred\u001b[39m.\u001b[39;49mdetach(), y_)\n\u001b[1;32m     <a href='file:///home/cosminciausu/miniconda3/envs/prostate158/lib/python3.8/site-packages/monai/metrics/metric.py?line=72'>73</a>\u001b[0m \u001b[39mraise\u001b[39;00m \u001b[39mValueError\u001b[39;00m(\u001b[39m\"\u001b[39m\u001b[39my_pred or y must be a list/tuple of `channel-first` Tensors or a `batch-first` Tensor.\u001b[39m\u001b[39m\"\u001b[39m)\n",
      "File \u001b[0;32m~/miniconda3/envs/prostate158/lib/python3.8/site-packages/monai/metrics/meandice.py:83\u001b[0m, in \u001b[0;36mDiceMetric._compute_tensor\u001b[0;34m(self, y_pred, y)\u001b[0m\n\u001b[1;32m     <a href='file:///home/cosminciausu/miniconda3/envs/prostate158/lib/python3.8/site-packages/monai/metrics/meandice.py?line=80'>81</a>\u001b[0m     \u001b[39mraise\u001b[39;00m \u001b[39mValueError\u001b[39;00m(\u001b[39mf\u001b[39m\u001b[39m\"\u001b[39m\u001b[39my_pred should have at least 3 dimensions (batch, channel, spatial), got \u001b[39m\u001b[39m{\u001b[39;00mdims\u001b[39m}\u001b[39;00m\u001b[39m.\u001b[39m\u001b[39m\"\u001b[39m)\n\u001b[1;32m     <a href='file:///home/cosminciausu/miniconda3/envs/prostate158/lib/python3.8/site-packages/monai/metrics/meandice.py?line=81'>82</a>\u001b[0m \u001b[39m# compute dice (BxC) for each channel for each batch\u001b[39;00m\n\u001b[0;32m---> <a href='file:///home/cosminciausu/miniconda3/envs/prostate158/lib/python3.8/site-packages/monai/metrics/meandice.py?line=82'>83</a>\u001b[0m \u001b[39mreturn\u001b[39;00m compute_dice(\n\u001b[1;32m     <a href='file:///home/cosminciausu/miniconda3/envs/prostate158/lib/python3.8/site-packages/monai/metrics/meandice.py?line=83'>84</a>\u001b[0m     y_pred\u001b[39m=\u001b[39;49my_pred, y\u001b[39m=\u001b[39;49my, include_background\u001b[39m=\u001b[39;49m\u001b[39mself\u001b[39;49m\u001b[39m.\u001b[39;49minclude_background, ignore_empty\u001b[39m=\u001b[39;49m\u001b[39mself\u001b[39;49m\u001b[39m.\u001b[39;49mignore_empty\n\u001b[1;32m     <a href='file:///home/cosminciausu/miniconda3/envs/prostate158/lib/python3.8/site-packages/monai/metrics/meandice.py?line=84'>85</a>\u001b[0m )\n",
      "File \u001b[0;32m~/miniconda3/envs/prostate158/lib/python3.8/site-packages/monai/metrics/meandice.py:138\u001b[0m, in \u001b[0;36mcompute_dice\u001b[0;34m(y_pred, y, include_background, ignore_empty)\u001b[0m\n\u001b[1;32m    <a href='file:///home/cosminciausu/miniconda3/envs/prostate158/lib/python3.8/site-packages/monai/metrics/meandice.py?line=134'>135</a>\u001b[0m y_pred \u001b[39m=\u001b[39m y_pred\u001b[39m.\u001b[39mfloat()\n\u001b[1;32m    <a href='file:///home/cosminciausu/miniconda3/envs/prostate158/lib/python3.8/site-packages/monai/metrics/meandice.py?line=136'>137</a>\u001b[0m \u001b[39mif\u001b[39;00m y\u001b[39m.\u001b[39mshape \u001b[39m!=\u001b[39m y_pred\u001b[39m.\u001b[39mshape:\n\u001b[0;32m--> <a href='file:///home/cosminciausu/miniconda3/envs/prostate158/lib/python3.8/site-packages/monai/metrics/meandice.py?line=137'>138</a>\u001b[0m     \u001b[39mraise\u001b[39;00m \u001b[39mValueError\u001b[39;00m(\u001b[39mf\u001b[39m\u001b[39m\"\u001b[39m\u001b[39my_pred and y should have same shapes, got \u001b[39m\u001b[39m{\u001b[39;00my_pred\u001b[39m.\u001b[39mshape\u001b[39m}\u001b[39;00m\u001b[39m and \u001b[39m\u001b[39m{\u001b[39;00my\u001b[39m.\u001b[39mshape\u001b[39m}\u001b[39;00m\u001b[39m.\u001b[39m\u001b[39m\"\u001b[39m)\n\u001b[1;32m    <a href='file:///home/cosminciausu/miniconda3/envs/prostate158/lib/python3.8/site-packages/monai/metrics/meandice.py?line=139'>140</a>\u001b[0m \u001b[39m# reducing only spatial dimensions (not batch nor channels)\u001b[39;00m\n\u001b[1;32m    <a href='file:///home/cosminciausu/miniconda3/envs/prostate158/lib/python3.8/site-packages/monai/metrics/meandice.py?line=140'>141</a>\u001b[0m n_len \u001b[39m=\u001b[39m \u001b[39mlen\u001b[39m(y_pred\u001b[39m.\u001b[39mshape)\n",
      "\u001b[0;31mValueError\u001b[0m: y_pred and y should have same shapes, got (1, 2, 384, 384, 163) and (1, 2, 139, 122, 148)."
     ]
    }
   ],
   "source": [
    "test_dl = segmentation_dataloaders(config=config, train=False, valid=False, test=True)\n",
    "trainer.evaluate(\n",
    "    checkpoint='models/anatomy.pt',\n",
    "    dataloader=test_dl\n",
    ")"
   ]
  },
  {
   "cell_type": "raw",
   "metadata": {},
   "source": [
    "%load_ext tensorboard\n",
    "%tensorboard --logdir=$config.log_dir"
   ]
  },
  {
   "cell_type": "markdown",
   "metadata": {},
   "source": [
    "Adding a learning rate scheduler for one-cylce policy. "
   ]
  },
  {
   "cell_type": "code",
   "execution_count": null,
   "metadata": {},
   "outputs": [],
   "source": [
    "trainer.fit_one_cycle()"
   ]
  },
  {
   "cell_type": "markdown",
   "metadata": {},
   "source": [
    "Let's train. This can take several hours. "
   ]
  },
  {
   "cell_type": "code",
   "execution_count": null,
   "metadata": {},
   "outputs": [],
   "source": [
    "trainer.run()"
   ]
  },
  {
   "cell_type": "markdown",
   "metadata": {},
   "source": [
    "Finish the training with final evaluation of the best model. To allow visualization of all outputs, add OutputStore handler first. Otherwise only output form the last epoch will be accessible. "
   ]
  },
  {
   "cell_type": "code",
   "execution_count": null,
   "metadata": {},
   "outputs": [],
   "source": [
    "eos_handler = ignite.handlers.EpochOutputStore()\n",
    "eos_handler.attach(trainer.evaluator, 'output')"
   ]
  },
  {
   "cell_type": "code",
   "execution_count": null,
   "metadata": {},
   "outputs": [],
   "source": [
    "trainer.test(checkpoint='models/anatomy.pt')"
   ]
  },
  {
   "cell_type": "markdown",
   "metadata": {},
   "source": [
    "Generate a markdown document with segmentation results"
   ]
  },
  {
   "cell_type": "code",
   "execution_count": null,
   "metadata": {},
   "outputs": [],
   "source": [
    "report_generator=ReportGenerator(\n",
    "    config.run_id, \n",
    "    config.out_dir, \n",
    "    config.log_dir\n",
    ")\n",
    "report_generator.generate_report()"
   ]
  },
  {
   "cell_type": "markdown",
   "metadata": {},
   "source": [
    "Have a look at some outputs"
   ]
  },
  {
   "cell_type": "code",
   "execution_count": null,
   "metadata": {},
   "outputs": [],
   "source": [
    "output = trainer.evaluator.state.output\n",
    "keys = ['image', 'label', 'pred']\n",
    "outputs = {k : [o[0][k].detach().cpu().squeeze() for o in output] for k in keys}"
   ]
  },
  {
   "cell_type": "code",
   "execution_count": null,
   "metadata": {},
   "outputs": [],
   "source": [
    "ListViewer(\n",
    "    [o.transpose(0,2).flip(-2) for o in outputs['image'][0:3]] + \n",
    "    [o.argmax(0).transpose(0,2).flip(-2).float() for o in outputs['label'][0:3]] + \n",
    "    [o.argmax(0).transpose(0,2).flip(-2).float() for o in outputs['pred'][0:3]] \n",
    ").show()"
   ]
  }
 ],
 "metadata": {
  "interpreter": {
   "hash": "6386183bb739fd75a489cf0d8b9be4ef69c79807f5a831400b30b9baa9b555d5"
  },
  "kernelspec": {
   "display_name": "Python 3.8.15 ('prostate158')",
   "language": "python",
   "name": "python3"
  },
  "language_info": {
   "codemirror_mode": {
    "name": "ipython",
    "version": 3
   },
   "file_extension": ".py",
   "mimetype": "text/x-python",
   "name": "python",
   "nbconvert_exporter": "python",
   "pygments_lexer": "ipython3",
   "version": "3.8.15"
  }
 },
 "nbformat": 4,
 "nbformat_minor": 5
}
